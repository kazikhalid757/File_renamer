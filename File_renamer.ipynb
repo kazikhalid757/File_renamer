{
 "cells": [
  {
   "cell_type": "code",
   "execution_count": 1,
   "id": "b158bf34",
   "metadata": {},
   "outputs": [],
   "source": [
    "import os\n",
    "import re \n",
    "import glob\n",
    "import openpyxl"
   ]
  },
  {
   "cell_type": "code",
   "execution_count": null,
   "id": "a16b2902",
   "metadata": {},
   "outputs": [],
   "source": [
    "# C:\\Users\\kazit\\Downloads\\parent  "
   ]
  },
  {
   "cell_type": "code",
   "execution_count": 7,
   "id": "f7414bd7",
   "metadata": {},
   "outputs": [
    {
     "name": "stdout",
     "output_type": "stream",
     "text": [
      "Enter the path of the parent folder: C:\\Users\\kazit\\Downloads\\parent\n",
      "Excel file 'subfolders.xlsx' created in 'C:\\Users\\kazit\\Downloads\\parent'\n",
      "Please fill in the ASIN and MAIN columns as needed.\n",
      "Once you've filled in the Excel file, run the utility again to rename the files.\n"
     ]
    }
   ],
   "source": [
    "# Function to create an Excel file with subfolder names, MAIN, and ASIN columns\n",
    "def create_excel_file(parent_folder):\n",
    "    workbook = openpyxl.Workbook()\n",
    "    worksheet = workbook.active\n",
    "    worksheet.title = \"Subfolders\"\n",
    "\n",
    "    # Add headers\n",
    "    worksheet.cell(row=1, column=1, value=\"Subfolder Name\")\n",
    "    worksheet.cell(row=1, column=2, value=\"MAIN\")\n",
    "    worksheet.cell(row=1, column=3, value=\"ASIN\")\n",
    "\n",
    "    # List all subfolders and add them to the Excel file\n",
    "    subfolders = [f.name for f in os.scandir(parent_folder) if f.is_dir()]\n",
    "    for i, subfolder in enumerate(subfolders, start=2):\n",
    "        worksheet.cell(row=i, column=1, value=subfolder)\n",
    "\n",
    "    # Save the Excel file\n",
    "    excel_file = os.path.join(parent_folder, \"subfolders.xlsx\")\n",
    "    workbook.save(excel_file)\n",
    "\n",
    "    return excel_file\n",
    "\n",
    "# Input the parent folder path\n",
    "parent_folder = input(\"Enter the path of the parent folder: \")\n",
    "\n",
    "# Create the Excel file with subfolder names\n",
    "excel_file = create_excel_file(parent_folder)\n",
    "\n",
    "print(f\"Excel file 'subfolders.xlsx' created in '{parent_folder}'\")\n",
    "print(\"Please fill in the ASIN and MAIN columns as needed.\")\n",
    "print(\"Once you've filled in the Excel file, run the utility again to rename the files.\")\n"
   ]
  },
  {
   "cell_type": "code",
   "execution_count": 8,
   "id": "48f7f79c",
   "metadata": {},
   "outputs": [
    {
     "name": "stdout",
     "output_type": "stream",
     "text": [
      "Enter the path of the parent folder: C:\\Users\\kazit\\Downloads\\parent\n",
      "Renamed: 235.main_MAIN_1.png -> 234.MAIN.png\n",
      "File '234.MAIN.png' already exists in 'C:\\Users\\kazit\\Downloads\\parent\\New folder (2)', skipping.\n",
      "File '234.MAIN.png' already exists in 'C:\\Users\\kazit\\Downloads\\parent\\New folder (2)', skipping.\n",
      "File '234.MAIN.png' already exists in 'C:\\Users\\kazit\\Downloads\\parent\\New folder (2)', skipping.\n",
      "Renamed: 235.main_1.png -> 235.MAIN.png\n",
      "File '235.MAIN.png' already exists in 'C:\\Users\\kazit\\Downloads\\parent\\New folder (3)', skipping.\n",
      "File '235.MAIN.png' already exists in 'C:\\Users\\kazit\\Downloads\\parent\\New folder (3)', skipping.\n",
      "File '235.MAIN.png' already exists in 'C:\\Users\\kazit\\Downloads\\parent\\New folder (3)', skipping.\n",
      "Renamed: 235.main_MAIN_1.png -> 236.MAIN.png\n",
      "File '236.MAIN.png' already exists in 'C:\\Users\\kazit\\Downloads\\parent\\New folder (4)', skipping.\n",
      "File '236.MAIN.png' already exists in 'C:\\Users\\kazit\\Downloads\\parent\\New folder (4)', skipping.\n",
      "File '236.MAIN.png' already exists in 'C:\\Users\\kazit\\Downloads\\parent\\New folder (4)', skipping.\n",
      "Renamed: 235.main_MAIN_1.png -> 237.MAIN.png\n",
      "File '237.MAIN.png' already exists in 'C:\\Users\\kazit\\Downloads\\parent\\New folder (5)', skipping.\n",
      "File '237.MAIN.png' already exists in 'C:\\Users\\kazit\\Downloads\\parent\\New folder (5)', skipping.\n",
      "File '237.MAIN.png' already exists in 'C:\\Users\\kazit\\Downloads\\parent\\New folder (5)', skipping.\n",
      "Renamed: 235.main_MAIN_1.png -> 238.MAIN.png\n",
      "File '238.MAIN.png' already exists in 'C:\\Users\\kazit\\Downloads\\parent\\New folder(1)', skipping.\n",
      "File '238.MAIN.png' already exists in 'C:\\Users\\kazit\\Downloads\\parent\\New folder(1)', skipping.\n",
      "File '238.MAIN.png' already exists in 'C:\\Users\\kazit\\Downloads\\parent\\New folder(1)', skipping.\n"
     ]
    }
   ],
   "source": [
    "# Function to read the Excel file and return subfolder data\n",
    "def read_excel_file(excel_file):\n",
    "    subfolder_data = []\n",
    "\n",
    "    if os.path.exists(excel_file):\n",
    "        workbook = openpyxl.load_workbook(excel_file)\n",
    "        worksheet = workbook.active\n",
    "\n",
    "        for row in worksheet.iter_rows(min_row=2, values_only=True):\n",
    "            subfolder_data.append(row)\n",
    "\n",
    "    return subfolder_data\n",
    "\n",
    "# Function to extract numerical values from folder names\n",
    "def extract_numerical_value(folder_name):\n",
    "    match = re.search(r'\\d+', folder_name)\n",
    "    return int(match.group()) if match else 0\n",
    "\n",
    "# Function to rename files within a subfolder based on subfolder data\n",
    "def rename_files(subfolder_path, main_file_name, asin_number):\n",
    "    main_exists = False\n",
    "\n",
    "    for filename in os.listdir(subfolder_path):\n",
    "        if main_file_name and filename.upper() == main_file_name.upper():\n",
    "            main_exists = True\n",
    "            continue  # Skip renaming the main file if it exists\n",
    "\n",
    "        base, ext = os.path.splitext(filename)\n",
    "        if main_file_name and \"MAIN\" in main_file_name.upper():\n",
    "            new_filename = f\"{asin_number}.MAIN{ext}\"\n",
    "        elif main_file_name and \"_1\" in main_file_name:\n",
    "            new_filename = f\"{asin_number}.MAIN{ext}\"\n",
    "        else:\n",
    "            if main_exists:\n",
    "                new_filename = f\"{asin_number}.PT{extract_numerical_value(base):02d}{ext}\"\n",
    "            else:\n",
    "                new_filename = f\"{asin_number}.MAIN{ext}\"\n",
    "        \n",
    "        src_file_path = os.path.join(subfolder_path, filename)\n",
    "        dst_file_path = os.path.join(subfolder_path, new_filename)\n",
    "\n",
    "        if not os.path.exists(dst_file_path):\n",
    "            os.rename(src_file_path, dst_file_path)\n",
    "            print(f\"Renamed: {filename} -> {new_filename}\")\n",
    "        else:\n",
    "            print(f\"File '{new_filename}' already exists in '{subfolder_path}', skipping.\")\n",
    "\n",
    "# Input the parent folder path\n",
    "parent_folder = input(\"Enter the path of the parent folder: \")\n",
    "\n",
    "excel_file = os.path.join(parent_folder, \"subfolders.xlsx\")\n",
    "\n",
    "subfolder_data = read_excel_file(excel_file)\n",
    "\n",
    "if subfolder_data:\n",
    "    for subfolder_name, main_file_name, asin_number in subfolder_data:\n",
    "        subfolder_path = os.path.join(parent_folder, subfolder_name)\n",
    "        if os.path.exists(subfolder_path) and os.path.isdir(subfolder_path):\n",
    "            rename_files(subfolder_path, main_file_name, asin_number)\n",
    "        else:\n",
    "            print(f\"Subfolder '{subfolder_name}' not found in '{parent_folder}'.\")\n",
    "\n",
    "else:\n",
    "    print(f\"No subfolder data found in '{excel_file}'.\")\n"
   ]
  },
  {
   "cell_type": "code",
   "execution_count": 9,
   "id": "8fcb23fb",
   "metadata": {},
   "outputs": [
    {
     "name": "stdout",
     "output_type": "stream",
     "text": [
      "Enter the path of the parent folder: C:\\Users\\kazit\\Downloads\\parent\n",
      "Renamed: image_1.png -> 234.PT01.png\n",
      "Renamed: image_2.png -> 234.PT02.png\n",
      "Renamed: image_3.png -> 234.PT03.png\n",
      "Renamed: image_1.png -> 235.PT01.png\n",
      "Renamed: image_2.png -> 235.PT02.png\n",
      "Renamed: image_3.png -> 235.PT03.png\n",
      "Renamed: image_1.png -> 236.PT01.png\n",
      "Renamed: image_2.png -> 236.PT02.png\n",
      "Renamed: image_3.png -> 236.PT03.png\n",
      "Renamed: image_1.png -> 237.PT01.png\n",
      "Renamed: image_2.png -> 237.PT02.png\n",
      "Renamed: image_3.png -> 237.PT03.png\n",
      "Renamed: image_1.png -> 238.PT01.png\n",
      "Renamed: image_2.png -> 238.PT02.png\n",
      "Renamed: image_3.png -> 238.PT03.png\n"
     ]
    }
   ],
   "source": [
    "# Function to read the Excel file and return subfolder data\n",
    "def read_excel_file(excel_file):\n",
    "    subfolder_data = []\n",
    "\n",
    "    if os.path.exists(excel_file):\n",
    "        workbook = openpyxl.load_workbook(excel_file)\n",
    "        worksheet = workbook.active\n",
    "\n",
    "        for row in worksheet.iter_rows(min_row=2, values_only=True):\n",
    "            subfolder_data.append(row)\n",
    "\n",
    "    return subfolder_data\n",
    "\n",
    "# Function to rename files within a subfolder based on subfolder data\n",
    "def rename_files(subfolder_path, main_file_name, asin_number):\n",
    "    # Create a list of files in the subfolder excluding the main file\n",
    "    files_to_rename = []\n",
    "    for filename in os.listdir(subfolder_path):\n",
    "        if filename != main_file_name and \"main\" not in filename.lower():\n",
    "            files_to_rename.append(filename)\n",
    "\n",
    "    # Sort the list of files and rename them in the order of \"ASIN_Number.PT01, PT02, PT03, ...\"\n",
    "    pt_number = 1\n",
    "    for filename in sorted(files_to_rename):\n",
    "        base, ext = os.path.splitext(filename)\n",
    "        new_filename = f\"{asin_number}.PT{pt_number:02d}{ext}\"\n",
    "        \n",
    "        src_file_path = os.path.join(subfolder_path, filename)\n",
    "        dst_file_path = os.path.join(subfolder_path, new_filename)\n",
    "        \n",
    "        os.rename(src_file_path, dst_file_path)\n",
    "        print(f\"Renamed: {filename} -> {new_filename}\")\n",
    "        \n",
    "        pt_number += 1\n",
    "\n",
    "# Input the parent folder path\n",
    "parent_folder = input(\"Enter the path of the parent folder: \")\n",
    "\n",
    "excel_file = os.path.join(parent_folder, \"subfolders.xlsx\")\n",
    "\n",
    "subfolder_data = read_excel_file(excel_file)\n",
    "\n",
    "if subfolder_data:\n",
    "    for subfolder_name, main_file_name, asin_number in subfolder_data:\n",
    "        subfolder_path = os.path.join(parent_folder, subfolder_name)\n",
    "        if os.path.exists(subfolder_path) and os.path.isdir(subfolder_path):\n",
    "            rename_files(subfolder_path, main_file_name, asin_number)\n",
    "        else:\n",
    "            print(f\"Subfolder '{subfolder_name}' not found in '{parent_folder}'.\")\n",
    "\n",
    "else:\n",
    "    print(f\"No subfolder data found in '{excel_file}'.\")\n"
   ]
  },
  {
   "cell_type": "code",
   "execution_count": null,
   "id": "3ae4ada6",
   "metadata": {},
   "outputs": [],
   "source": []
  }
 ],
 "metadata": {
  "kernelspec": {
   "display_name": "Python 3 (ipykernel)",
   "language": "python",
   "name": "python3"
  },
  "language_info": {
   "codemirror_mode": {
    "name": "ipython",
    "version": 3
   },
   "file_extension": ".py",
   "mimetype": "text/x-python",
   "name": "python",
   "nbconvert_exporter": "python",
   "pygments_lexer": "ipython3",
   "version": "3.9.13"
  },
  "require": {
   "paths": {
    "buttons.colvis": "https://cdn.datatables.net/buttons/1.5.6/js/buttons.colVis.min",
    "buttons.flash": "https://cdn.datatables.net/buttons/1.5.6/js/buttons.flash.min",
    "buttons.html5": "https://cdn.datatables.net/buttons/1.5.6/js/buttons.html5.min",
    "buttons.print": "https://cdn.datatables.net/buttons/1.5.6/js/buttons.print.min",
    "chartjs": "https://cdnjs.cloudflare.com/ajax/libs/Chart.js/2.8.0/Chart",
    "d3": "https://d3js.org/d3.v5.min",
    "d3-array": "https://d3js.org/d3-array.v2.min",
    "datatables.net": "https://cdn.datatables.net/1.10.18/js/jquery.dataTables",
    "datatables.net-buttons": "https://cdn.datatables.net/buttons/1.5.6/js/dataTables.buttons.min",
    "datatables.responsive": "https://cdn.datatables.net/responsive/2.2.2/js/dataTables.responsive.min",
    "datatables.scroller": "https://cdn.datatables.net/scroller/2.0.0/js/dataTables.scroller.min",
    "datatables.select": "https://cdn.datatables.net/select/1.3.0/js/dataTables.select.min",
    "jszip": "https://cdnjs.cloudflare.com/ajax/libs/jszip/2.5.0/jszip.min",
    "moment": "https://cdnjs.cloudflare.com/ajax/libs/moment.js/2.8.0/moment",
    "pdfmake": "https://cdnjs.cloudflare.com/ajax/libs/pdfmake/0.1.36/pdfmake.min",
    "vfsfonts": "https://cdnjs.cloudflare.com/ajax/libs/pdfmake/0.1.36/vfs_fonts"
   },
   "shim": {
    "buttons.colvis": {
     "deps": [
      "jszip",
      "datatables.net-buttons"
     ]
    },
    "buttons.flash": {
     "deps": [
      "jszip",
      "datatables.net-buttons"
     ]
    },
    "buttons.html5": {
     "deps": [
      "jszip",
      "datatables.net-buttons"
     ]
    },
    "buttons.print": {
     "deps": [
      "jszip",
      "datatables.net-buttons"
     ]
    },
    "chartjs": {
     "deps": [
      "moment"
     ]
    },
    "datatables.net": {
     "exports": "$.fn.dataTable"
    },
    "datatables.net-buttons": {
     "deps": [
      "datatables.net"
     ]
    },
    "pdfmake": {
     "deps": [
      "datatables.net"
     ]
    },
    "vfsfonts": {
     "deps": [
      "datatables.net"
     ]
    }
   }
  }
 },
 "nbformat": 4,
 "nbformat_minor": 5
}
